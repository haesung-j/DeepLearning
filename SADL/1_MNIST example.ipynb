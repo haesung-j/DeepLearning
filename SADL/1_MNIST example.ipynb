{
 "cells": [
  {
   "cell_type": "markdown",
   "id": "94ad4331",
   "metadata": {},
   "source": [
    "# 1. Data Preperation\n",
    "### data set\n",
    "$$X_{train} \\in R^{50000 \\times 784}, ~ y_{train} \\in R^{50000}$$\n",
    "$$X_{val} \\in R^{10000 \\times 784}, ~ y_{val} \\in R^{10000}$$\n",
    "$$X_{test} \\in R^{10000 \\times 784}, ~ y_{test} \\in R^{10000}$$"
   ]
  },
  {
   "cell_type": "code",
   "execution_count": 1,
   "id": "0be5772e",
   "metadata": {},
   "outputs": [
    {
     "name": "stdout",
     "output_type": "stream",
     "text": [
      "50000 10000 10000\n"
     ]
    }
   ],
   "source": [
    "import torch\n",
    "from torchvision import datasets, transforms\n",
    "import torch.nn as nn\n",
    "\n",
    "\n",
    "batch_size = 128\n",
    "train_dataset = datasets.MNIST('./data', train=True, download=True,\n",
    "                   transform=transforms.Compose([\n",
    "                       transforms.ToTensor(),\n",
    "                       transforms.Normalize((0.1307,), (0.3081,))\n",
    "                   ]))\n",
    "test_dataset =  datasets.MNIST('./data', train=False, download=True,\n",
    "                   transform=transforms.Compose([\n",
    "                       transforms.ToTensor(),\n",
    "                       transforms.Normalize((0.1307,), (0.3081,))\n",
    "                   ]))\n",
    "train_dataset, val_dataset = torch.utils.data.random_split(train_dataset, [50000, 10000])\n",
    "print(len(train_dataset), len(val_dataset), len(test_dataset))\n",
    "\n",
    "train_loader = torch.utils.data.DataLoader(train_dataset, batch_size=128, shuffle=True)\n",
    "val_loader = torch.utils.data.DataLoader(val_dataset, batch_size=128, shuffle=False)\n",
    "test_loader = torch.utils.data.DataLoader(test_dataset, batch_size=128, shuffle=False)"
   ]
  },
  {
   "cell_type": "markdown",
   "id": "8d88bd68",
   "metadata": {},
   "source": [
    "### Plotting Dataset"
   ]
  },
  {
   "cell_type": "code",
   "execution_count": 2,
   "id": "b844d6fc",
   "metadata": {},
   "outputs": [
    {
     "data": {
      "image/png": "[encoded data removed]",
      "text/plain": [
       "<Figure size 1080x648 with 6 Axes>"
      ]
     },
     "metadata": {
      "needs_background": "light"
     },
     "output_type": "display_data"
    }
   ],
   "source": [
    "examples = enumerate(train_loader)\n",
    "batch_idx, (example_data, example_targets) = next(examples)  \n",
    "\n",
    "import matplotlib.pyplot as plt\n",
    "\n",
    "fig = plt.figure(figsize=(15, 9))\n",
    "for i in range(6):\n",
    "    plt.subplot(2,3,i+1)\n",
    "    plt.tight_layout()\n",
    "    plt.imshow(example_data[i][0], cmap='gray', interpolation='none')\n",
    "    plt.title(\"Ground Truth: {}\".format(example_targets[i]))\n",
    "plt.show()"
   ]
  },
  {
   "cell_type": "markdown",
   "id": "43e187dc",
   "metadata": {},
   "source": [
    "# 2. Model Architecture"
   ]
  },
  {
   "cell_type": "code",
   "execution_count": 3,
   "id": "ed456f60",
   "metadata": {},
   "outputs": [],
   "source": [
    "class LinearModel(nn.Module):\n",
    "    def __init__(self):\n",
    "        super(LinearModel, self).__init__()\n",
    "        self.linear = nn.Linear(in_features=784, out_features=10, bias=True)\n",
    "        \n",
    "    def forward(self, x):\n",
    "        x = self.linear(x)\n",
    "        return x"
   ]
  },
  {
   "cell_type": "markdown",
   "id": "0305f504",
   "metadata": {},
   "source": [
    "# 3. Define Cost Function (Loss Function)"
   ]
  },
  {
   "cell_type": "code",
   "execution_count": 4,
   "id": "a0475d15",
   "metadata": {},
   "outputs": [],
   "source": [
    "cls_loss = nn.CrossEntropyLoss()"
   ]
  },
  {
   "cell_type": "markdown",
   "id": "60f6b2dc",
   "metadata": {},
   "source": [
    "# 4. Train & Evaluation\n",
    "1. 1 Epoch 당 시간 차이 확인해보기"
   ]
  },
  {
   "cell_type": "markdown",
   "id": "79e5a7ed",
   "metadata": {},
   "source": [
    "- Using CPU: i5-1135G7"
   ]
  },
  {
   "cell_type": "code",
   "execution_count": 5,
   "id": "6c5f1d9e",
   "metadata": {},
   "outputs": [
    {
     "name": "stdout",
     "output_type": "stream",
     "text": [
      "total parameters: 7850\n",
      "Epoch: 1 - 소요 시간: 10.6초\n",
      "Train Loss: 0.741, Val Loss: 0.493, Test Acc: 88.080%\n",
      "Epoch: 2 - 소요 시간: 9.3초\n",
      "Train Loss: 0.438, Val Loss: 0.418, Test Acc: 89.440%\n",
      "Epoch: 3 - 소요 시간: 9.1초\n",
      "Train Loss: 0.389, Val Loss: 0.387, Test Acc: 90.130%\n",
      "Epoch: 4 - 소요 시간: 9.2초\n",
      "Train Loss: 0.364, Val Loss: 0.369, Test Acc: 90.390%\n",
      "Epoch: 5 - 소요 시간: 9.2초\n",
      "Train Loss: 0.349, Val Loss: 0.357, Test Acc: 90.840%\n",
      "Epoch: 6 - 소요 시간: 9.7초\n",
      "Train Loss: 0.338, Val Loss: 0.349, Test Acc: 90.930%\n",
      "Epoch: 7 - 소요 시간: 10.0초\n",
      "Train Loss: 0.330, Val Loss: 0.342, Test Acc: 91.210%\n",
      "Epoch: 8 - 소요 시간: 10.3초\n",
      "Train Loss: 0.323, Val Loss: 0.337, Test Acc: 91.240%\n",
      "Epoch: 9 - 소요 시간: 9.7초\n",
      "Train Loss: 0.318, Val Loss: 0.333, Test Acc: 91.350%\n",
      "Epoch: 10 - 소요 시간: 9.8초\n",
      "Train Loss: 0.313, Val Loss: 0.329, Test Acc: 91.580%\n"
     ]
    }
   ],
   "source": [
    "import torch.optim as optim\n",
    "from sklearn.metrics import accuracy_score\n",
    "import time\n",
    "\n",
    "# ======= Construct Model ======= #\n",
    "model = LinearModel()\n",
    "print('total parameters: {}'.format(sum(p.numel() for p in model.parameters() if p.requires_grad)))\n",
    "\n",
    "# ======= Construct Optimizer ======= #\n",
    "lr = 0.005\n",
    "optimizer = optim.SGD(model.parameters(), lr=lr)\n",
    "\n",
    "li_epoch = []\n",
    "li_train_loss = []\n",
    "li_val_loss = []\n",
    "li_acc = []\n",
    "li_acc_epoch = []\n",
    "\n",
    "epoch = 10\n",
    "\n",
    "for i in range(1, epoch+1):\n",
    "    start = time.time()    ### 시간 측정 \n",
    "    \n",
    "    # ===== Train ===== #\n",
    "    train_loss = 0\n",
    "    model.train()\n",
    "    \n",
    "    for input_X, true_y in train_loader:\n",
    "        optimizer.zero_grad()\n",
    "        \n",
    "        input_X = input_X.squeeze()  # squeeze(): 차원이 1인 axis 제거\n",
    "        input_X = input_X.view(-1, 28*28)\n",
    "        pred_y = model(input_X)\n",
    "        \n",
    "        loss = cls_loss(pred_y.squeeze(), true_y)\n",
    "        loss.backward()\n",
    "        optimizer.step()\n",
    "        \n",
    "        train_loss += loss.item()\n",
    "    train_loss = train_loss / len(train_loader)\n",
    "    li_train_loss.append(train_loss)   # 1 epoch에 대한 train loss\n",
    "    li_epoch.append(i)\n",
    "    \n",
    "    # ===== Validation ===== #\n",
    "    val_loss = 0\n",
    "    model.eval()\n",
    "    \n",
    "    with torch.no_grad(): # Val 과정에서 그라디언트가 사용되지 않도록 함\n",
    "        for input_X, true_y in val_loader:\n",
    "            input_X = input_X.squeeze()\n",
    "            input_X = input_X.view(-1, 28*28)\n",
    "            pred_y = model(input_X)\n",
    "            \n",
    "            loss = cls_loss(pred_y.squeeze(), true_y)\n",
    "            \n",
    "            val_loss += loss.item()\n",
    "        val_loss = val_loss / len(val_loader)   # 1 epoch에 대한 validation loss\n",
    "        li_val_loss.append(val_loss)\n",
    "        \n",
    "    # ===== Evaludation ===== #\n",
    "    correct = 0\n",
    "    model.eval()\n",
    "    \n",
    "    with torch.no_grad():\n",
    "        for input_X, true_y in test_loader:\n",
    "            input_X = input_X.squeeze()\n",
    "            input_X = input_X.view(-1, 28*28)\n",
    "            pred_y = model(input_X).max(1, keepdim=True)[1].squeeze()\n",
    "            correct += pred_y.eq(true_y).sum()\n",
    "            \n",
    "        acc = correct / len(test_loader.dataset)\n",
    "        li_acc.append(acc.item())\n",
    "        li_acc_epoch.append(i)\n",
    "        \n",
    "        end = time.time()    ### 시간 측정 \n",
    "    \n",
    "    print('Epoch: {} - 소요 시간: {:3.1f}초'.format(i, end-start))\n",
    "        \n",
    "    print('Train Loss: {:.3f}, Val Loss: {:.3f}, Test Acc: {:.3f}%'.format(train_loss, val_loss, acc*100))\n",
    "        \n",
    "            "
   ]
  },
  {
   "cell_type": "markdown",
   "id": "ce692bb5",
   "metadata": {},
   "source": [
    "- Using GPU: MX450"
   ]
  },
  {
   "cell_type": "code",
   "execution_count": 6,
   "id": "b0773895",
   "metadata": {},
   "outputs": [
    {
     "data": {
      "text/plain": [
       "'cuda'"
      ]
     },
     "execution_count": 6,
     "metadata": {},
     "output_type": "execute_result"
    }
   ],
   "source": [
    "device = 'cuda' if torch.cuda.is_available() else 'cpu'\n",
    "device"
   ]
  },
  {
   "cell_type": "code",
   "execution_count": 7,
   "id": "d893a04c",
   "metadata": {},
   "outputs": [
    {
     "name": "stdout",
     "output_type": "stream",
     "text": [
      "total parameters: 7850\n",
      "Epoch: 1 - 소요 시간: 10.6초\n",
      "Train Loss: 0.751, Val Loss: 0.494, Test Acc: 88.190%\n",
      "Epoch: 2 - 소요 시간: 10.0초\n",
      "Train Loss: 0.438, Val Loss: 0.418, Test Acc: 89.540%\n",
      "Epoch: 3 - 소요 시간: 9.5초\n",
      "Train Loss: 0.389, Val Loss: 0.387, Test Acc: 90.110%\n",
      "Epoch: 4 - 소요 시간: 10.0초\n",
      "Train Loss: 0.365, Val Loss: 0.369, Test Acc: 90.650%\n",
      "Epoch: 5 - 소요 시간: 9.6초\n",
      "Train Loss: 0.349, Val Loss: 0.358, Test Acc: 90.800%\n",
      "Epoch: 6 - 소요 시간: 9.4초\n",
      "Train Loss: 0.338, Val Loss: 0.349, Test Acc: 90.920%\n",
      "Epoch: 7 - 소요 시간: 9.3초\n",
      "Train Loss: 0.330, Val Loss: 0.342, Test Acc: 91.030%\n",
      "Epoch: 8 - 소요 시간: 9.4초\n",
      "Train Loss: 0.324, Val Loss: 0.337, Test Acc: 91.140%\n",
      "Epoch: 9 - 소요 시간: 9.5초\n",
      "Train Loss: 0.318, Val Loss: 0.333, Test Acc: 91.250%\n",
      "Epoch: 10 - 소요 시간: 9.4초\n",
      "Train Loss: 0.314, Val Loss: 0.330, Test Acc: 91.380%\n"
     ]
    }
   ],
   "source": [
    "# ======= Construct Model ======= #\n",
    "model = LinearModel().to(device)\n",
    "print('total parameters: {}'.format(sum(p.numel() for p in model.parameters() if p.requires_grad)))\n",
    "\n",
    "# ======= Construct Optimizer ======= #\n",
    "lr = 0.005\n",
    "optimizer = optim.SGD(model.parameters(), lr=lr)\n",
    "\n",
    "li_epoch = []\n",
    "li_train_loss = []\n",
    "li_val_loss = []\n",
    "li_acc = []\n",
    "li_acc_epoch = []\n",
    "\n",
    "epoch = 10\n",
    "\n",
    "for i in range(1, epoch+1):\n",
    "    start = time.time()    ### 시간 측정 \n",
    "    \n",
    "    # ===== Train ===== #\n",
    "    train_loss = 0\n",
    "    model.train()\n",
    "    \n",
    "    for input_X, true_y in train_loader:\n",
    "        optimizer.zero_grad()\n",
    "        \n",
    "        input_X = input_X.squeeze()  # squeeze(): 차원이 1인 axis 제거\n",
    "        input_X = input_X.view(-1, 28*28)\n",
    "        \n",
    "        input_X = input_X.to(device)\n",
    "        true_y = true_y.to(device)\n",
    "        pred_y = model(input_X)\n",
    "        \n",
    "        loss = cls_loss(pred_y.squeeze(), true_y)\n",
    "        loss.backward()\n",
    "        optimizer.step()\n",
    "        \n",
    "        train_loss += loss.item()\n",
    "    train_loss = train_loss / len(train_loader)\n",
    "    li_train_loss.append(train_loss)   # 1 epoch에 대한 train loss\n",
    "    li_epoch.append(i)\n",
    "    \n",
    "    # ===== Validation ===== #\n",
    "    val_loss = 0\n",
    "    model.eval()\n",
    "    \n",
    "    with torch.no_grad(): # Val 과정에서 그라디언트가 사용되지 않도록 함\n",
    "        for input_X, true_y in val_loader:\n",
    "            input_X = input_X.squeeze()\n",
    "            input_X = input_X.view(-1, 28*28)\n",
    "            \n",
    "            input_X = input_X.to(device)\n",
    "            true_y = true_y.to(device)\n",
    "            pred_y = model(input_X)\n",
    "            \n",
    "            loss = cls_loss(pred_y.squeeze(), true_y)\n",
    "            \n",
    "            val_loss += loss.item()\n",
    "        val_loss = val_loss / len(val_loader)   # 1 epoch에 대한 validation loss\n",
    "        li_val_loss.append(val_loss)\n",
    "        \n",
    "    # ===== Evaludation ===== #\n",
    "    correct = 0\n",
    "    model.eval()\n",
    "    \n",
    "    with torch.no_grad():\n",
    "        for input_X, true_y in test_loader:\n",
    "            input_X = input_X.squeeze()\n",
    "            input_X = input_X.view(-1, 28*28)\n",
    "            \n",
    "            input_X = input_X.to(device)\n",
    "            true_y = true_y.to(device)\n",
    "            \n",
    "            pred_y = model(input_X).max(1, keepdim=True)[1].squeeze()\n",
    "            correct += pred_y.eq(true_y).sum()\n",
    "            \n",
    "        acc = correct / len(test_loader.dataset)\n",
    "        li_acc.append(acc.item())\n",
    "        li_acc_epoch.append(i)\n",
    "        \n",
    "        end = time.time()    ### 시간 측정 \n",
    "    \n",
    "    print('Epoch: {} - 소요 시간: {:3.1f}초'.format(i, end-start))\n",
    "        \n",
    "    print('Train Loss: {:.3f}, Val Loss: {:.3f}, Test Acc: {:.3f}%'.format(train_loss, val_loss, acc*100))"
   ]
  },
  {
   "cell_type": "markdown",
   "id": "84c6bd8b",
   "metadata": {},
   "source": [
    "# 5. Report Experiment"
   ]
  },
  {
   "cell_type": "code",
   "execution_count": 9,
   "id": "0688e5d6",
   "metadata": {},
   "outputs": [
    {
     "data": {
      "image/png": "[encoded data removed]",
      "text/plain": [
       "<Figure size 1080x360 with 2 Axes>"
      ]
     },
     "metadata": {
      "needs_background": "light"
     },
     "output_type": "display_data"
    }
   ],
   "source": [
    "fig = plt.figure(figsize=(15,5))\n",
    "\n",
    "# ====== Loss Fluctuation ====== #\n",
    "ax1 = fig.add_subplot(1, 2, 1)\n",
    "ax1.plot(li_epoch, li_train_loss, label='train_loss')\n",
    "ax1.plot(li_epoch, li_val_loss, '--', label='val_loss')\n",
    "ax1.set_xlabel('epoch')\n",
    "ax1.set_ylabel('loss')\n",
    "ax1.grid()\n",
    "ax1.legend()\n",
    "ax1.set_title('epoch vs loss')\n",
    "\n",
    "# ====== Metric Fluctuation ====== #\n",
    "ax2 = fig.add_subplot(1, 2, 2)\n",
    "ax2.plot(li_acc_epoch, li_acc, marker='x', label='Accuracy metric')\n",
    "ax2.set_xlabel('epoch')\n",
    "ax2.set_ylabel('Acc')\n",
    "ax2.grid()\n",
    "ax2.legend()\n",
    "ax2.set_title('epoch vs Accuracy')\n",
    "\n",
    "plt.show()"
   ]
  },
  {
   "cell_type": "code",
   "execution_count": null,
   "id": "51458c2d",
   "metadata": {},
   "outputs": [],
   "source": []
  }
 ],
 "metadata": {
  "kernelspec": {
   "display_name": "pytorch",
   "language": "python",
   "name": "pytorch"
  },
  "language_info": {
   "codemirror_mode": {
    "name": "ipython",
    "version": 3
   },
   "file_extension": ".py",
   "mimetype": "text/x-python",
   "name": "python",
   "nbconvert_exporter": "python",
   "pygments_lexer": "ipython3",
   "version": "3.9.12"
  }
 },
 "nbformat": 4,
 "nbformat_minor": 5
}
