{
 "cells": [
  {
   "cell_type": "code",
   "execution_count": 1,
   "id": "6be4b98e",
   "metadata": {},
   "outputs": [],
   "source": [
    "import torch\n",
    "import torchvision\n",
    "import torchvision.transforms as transforms\n",
    "\n",
    "import torch.nn as nn\n",
    "import torch.optim as optim\n",
    "\n",
    "import numpy as np\n",
    "import matplotlib.pyplot as plt\n",
    "import time"
   ]
  },
  {
   "cell_type": "code",
   "execution_count": 2,
   "id": "fab0a3ee",
   "metadata": {},
   "outputs": [],
   "source": [
    "VGG = {\n",
    "    'VGG11': [64, 'M', 128, 'M', 256, 256, 'M', 512, 512, 'M', 512, 512, 'M'],\n",
    "    'VGG13': [64, 64, 'M', 128, 128, 'M', 256, 256, 'M', 512, 512, 'M', 512, 512, 'M'],\n",
    "    'VGG16': [64, 64, 'M', 128, 128, 'M', 256, 256, 256, 'M', 512, 512, 512, 'M', 512, 512, 512, 'M'],\n",
    "    'VGG19': [64, 64, 'M', 128, 128, 'M', 256, 256, 256, 256, 'M', 512, 512, 512, 512, 'M', 512, 512, 512, 512, 'M']\n",
    "}"
   ]
  },
  {
   "cell_type": "code",
   "execution_count": 3,
   "id": "34656980",
   "metadata": {},
   "outputs": [],
   "source": [
    "class VGG_net(nn.Module):\n",
    "    def __init__(self, in_channels, num_classes, model_code, bn=True, dropout=0.5):\n",
    "        super(VGG_net, self).__init__()\n",
    "        self.in_channels = in_channels\n",
    "        self.num_classes = num_classes\n",
    "        self.model_code = model_code\n",
    "        self.bn = bn\n",
    "        self.dropout = dropout\n",
    "        \n",
    "        self.conv_layers = self.create_layers(self.model_code)\n",
    "        \n",
    "        if self.dropout:  # dropout이 0이 아니면 수행\n",
    "            self.fcs = nn.Sequential(\n",
    "                nn.Linear(in_features=512, out_features=4096),\n",
    "                nn.ReLU(),\n",
    "                nn.Dropout(p=self.dropout),\n",
    "                nn.Linear(in_features=4096, out_features=4096),\n",
    "                nn.ReLU(),\n",
    "                nn.Dropout(p=self.dropout),\n",
    "                nn.Linear(in_features=4096, out_features=self.num_classes)\n",
    "            )            \n",
    "        else:\n",
    "            self.fcs = nn.Sequential(\n",
    "                nn.Linear(in_features=512, out_features=4096),\n",
    "                nn.ReLU(),\n",
    "                nn.Linear(in_features=4096, out_features=4096),\n",
    "                nn.ReLU(),\n",
    "                nn.Linear(in_features=4096, out_features=self.num_classes)\n",
    "            )\n",
    "        \n",
    "    def forward(self, x):\n",
    "        x = self.conv_layers(x)\n",
    "        x = x.view(x.size(0), -1)\n",
    "        x = self.fcs(x)\n",
    "        return x\n",
    "    \n",
    "    def create_layers(self, model_code):\n",
    "        layers = []\n",
    "        in_channels = self.in_channels\n",
    "        \n",
    "        for x in VGG[model_code]:\n",
    "            if x == 'M':\n",
    "                layers += [nn.MaxPool2d(kernel_size = 2, stride = 2)]\n",
    "                \n",
    "            else:\n",
    "                out_channels = x\n",
    "                layers += [nn.Conv2d(in_channels = in_channels, out_channels = out_channels,\n",
    "                                    kernel_size = 3, stride = 1, padding = 1)]\n",
    "                if self.bn:\n",
    "                    layers += [nn.BatchNorm2d(x),\n",
    "                              nn.ReLU()]\n",
    "                else:\n",
    "                    layers += [nn.ReLU()]\n",
    "                \n",
    "                in_channels = x\n",
    "        return nn.Sequential(*layers)"
   ]
  },
  {
   "cell_type": "code",
   "execution_count": 4,
   "id": "e2a4ae38",
   "metadata": {},
   "outputs": [],
   "source": [
    "def dim_check():\n",
    "    x = torch.randn(2,3,32,32)\n",
    "    m = VGG_net(3, 10, 'VGG11', True)\n",
    "    y = m(x)\n",
    "    print(y.size())"
   ]
  },
  {
   "cell_type": "code",
   "execution_count": 5,
   "id": "a220f0a3",
   "metadata": {},
   "outputs": [
    {
     "name": "stdout",
     "output_type": "stream",
     "text": [
      "torch.Size([2, 10])\n"
     ]
    }
   ],
   "source": [
    "dim_check()"
   ]
  },
  {
   "cell_type": "code",
   "execution_count": 6,
   "id": "db38c3cb",
   "metadata": {},
   "outputs": [],
   "source": [
    "from experiments import *\n",
    "def experiment(partition, args):\n",
    "    m = VGG_net(in_channels=3, num_classes=10, model_code=args.model_code, bn=args.bn, dropout=args.dropout)\n",
    "    m = m.cuda()\n",
    "    criterion = nn.CrossEntropyLoss()\n",
    "    \n",
    "    if args.optim == 'SGD':\n",
    "        optimizer = optim.SGD(m.parameters(), lr=args.lr, weight_decay=args.l2)\n",
    "    elif args.optim == 'Adam':\n",
    "        optimizer = optim.Adam(m.parameters(), lr=args.lr, weight_decay=args.l2)\n",
    "    elif args.optim == 'RMSprop':\n",
    "        optimizer = optim.RMSprop(m.parameters(), lr=args.lr, weight_decay=args.l2)\n",
    "    else:\n",
    "        raise ValueError('Invalid Optimizer! Try Again')\n",
    "        \n",
    "    train_losses = []\n",
    "    val_losses = []\n",
    "    train_accs = []\n",
    "    val_accs = []\n",
    "    \n",
    "    for epoch in range(1, args.epochs+1):\n",
    "        ts = time.time()\n",
    "        m, train_loss, train_acc = train(m, partition, optimizer, criterion, args)\n",
    "        val_loss, val_acc = validate(m, partition, criterion, args)\n",
    "        te = time.time()\n",
    "        \n",
    "        train_losses.append(train_loss)\n",
    "        val_losses.append(val_loss)\n",
    "        train_accs.append(train_acc)\n",
    "        val_accs.append(val_acc)\n",
    "        print('Epoch: {}/{}, Acc: {:2.2f}/{:2.2f}, Loss: {:2.2f}/{:2.2f}, Took:{:2.2f}sec'.format(\n",
    "                    epoch, args.epochs, train_acc, val_acc, train_loss, val_loss, te-ts))\n",
    "        \n",
    "    test_acc = test(m, partition, args)\n",
    "    \n",
    "    result = {}\n",
    "    result['train_losses'] = train_losses\n",
    "    result['val_losses'] = val_losses\n",
    "    result['train_accs'] = train_accs\n",
    "    result['val_accs'] = val_accs\n",
    "    result['test_acc'] = test_acc\n",
    "    return vars(args), result"
   ]
  },
  {
   "cell_type": "code",
   "execution_count": 7,
   "id": "785890bb",
   "metadata": {},
   "outputs": [
    {
     "name": "stdout",
     "output_type": "stream",
     "text": [
      "Files already downloaded and verified\n",
      "Files already downloaded and verified\n"
     ]
    }
   ],
   "source": [
    "transform = transforms.Compose(\n",
    "    [transforms.ToTensor(),    # image파일을 0 ~ 1사이의 값을 갖는 Tensor로 변환(0: 검은색)\n",
    "     transforms.Normalize((0.5, 0.5, 0.5), (0.5, 0.5, 0.5), )])  # 채널별로 0.5를 빼고(-0.5 ~ 0.5), 0.5로 나눔\n",
    "\n",
    "trainset = torchvision.datasets.CIFAR10(root='./data', train=True,\n",
    "                                        download=True, transform=transform)\n",
    "trainset, valset = torch.utils.data.random_split(trainset, [40000,10000])\n",
    "\n",
    "testset = torchvision.datasets.CIFAR10(root='./data', train=False,\n",
    "                                       download=True, transform=transform)\n",
    "\n",
    "partition = {'train': trainset, 'val':valset, 'test':testset}"
   ]
  },
  {
   "cell_type": "code",
   "execution_count": 8,
   "id": "0697dfb1",
   "metadata": {},
   "outputs": [],
   "source": [
    "import argparse\n",
    "\n",
    "parser = argparse.ArgumentParser()\n",
    "args = parser.parse_args('')\n",
    "\n",
    "## model\n",
    "args.model_code = 'VGG11'\n",
    "args.bn = True\n",
    "args.dropout = 0.5\n",
    "\n",
    "args.l2 = 0.0001\n",
    "args.optim = 'Adam'\n",
    "args.train_batch_size = 256\n",
    "args.val_batch_size = 1024\n",
    "args.lr = 0.001\n",
    "args.epochs = 10"
   ]
  },
  {
   "cell_type": "code",
   "execution_count": 9,
   "id": "cca39f5a",
   "metadata": {},
   "outputs": [
    {
     "name": "stdout",
     "output_type": "stream",
     "text": [
      "Epoch: 1/10, Acc: 17.74/26.56, Loss: 2.10/1.86, Took:51.04sec\n",
      "Epoch: 2/10, Acc: 34.16/29.01, Loss: 1.66/1.90, Took:47.46sec\n",
      "Epoch: 3/10, Acc: 49.43/49.39, Loss: 1.33/1.40, Took:50.49sec\n",
      "Epoch: 4/10, Acc: 61.30/56.55, Loss: 1.09/1.26, Took:50.99sec\n",
      "Epoch: 5/10, Acc: 67.74/65.02, Loss: 0.93/1.00, Took:51.59sec\n",
      "Epoch: 6/10, Acc: 72.99/65.91, Loss: 0.80/1.11, Took:50.97sec\n",
      "Epoch: 7/10, Acc: 76.63/71.31, Loss: 0.70/0.85, Took:50.36sec\n",
      "Epoch: 8/10, Acc: 80.12/74.52, Loss: 0.60/0.80, Took:49.97sec\n",
      "Epoch: 9/10, Acc: 82.54/70.65, Loss: 0.54/0.98, Took:51.65sec\n",
      "Epoch: 10/10, Acc: 84.44/78.59, Loss: 0.48/0.69, Took:50.33sec\n"
     ]
    }
   ],
   "source": [
    "parameters, result = experiment(partition, args)"
   ]
  },
  {
   "cell_type": "code",
   "execution_count": 38,
   "id": "9a204f03",
   "metadata": {},
   "outputs": [
    {
     "data": {
      "text/plain": [
       "346816512"
      ]
     },
     "execution_count": 38,
     "metadata": {},
     "output_type": "execute_result"
    }
   ],
   "source": [
    "3 * 3 * 256 * 28 * 28 * 192"
   ]
  },
  {
   "cell_type": "code",
   "execution_count": 39,
   "id": "9bb01273",
   "metadata": {},
   "outputs": [
    {
     "data": {
      "text/plain": [
       "86720512"
      ]
     },
     "execution_count": 39,
     "metadata": {},
     "output_type": "execute_result"
    }
   ],
   "source": [
    "(1 * 1 * 64 * 256) + (3 * 3 * 64 * 28 * 28 * 192)"
   ]
  },
  {
   "cell_type": "code",
   "execution_count": 41,
   "id": "c8e3a8ca",
   "metadata": {},
   "outputs": [
    {
     "data": {
      "text/plain": [
       "0.2500472411186697"
      ]
     },
     "execution_count": 41,
     "metadata": {},
     "output_type": "execute_result"
    }
   ],
   "source": [
    "86720512/ 346816512"
   ]
  }
 ],
 "metadata": {
  "kernelspec": {
   "display_name": "pytorch",
   "language": "python",
   "name": "pytorch"
  },
  "language_info": {
   "codemirror_mode": {
    "name": "ipython",
    "version": 3
   },
   "file_extension": ".py",
   "mimetype": "text/x-python",
   "name": "python",
   "nbconvert_exporter": "python",
   "pygments_lexer": "ipython3",
   "version": "3.9.12"
  }
 },
 "nbformat": 4,
 "nbformat_minor": 5
}
